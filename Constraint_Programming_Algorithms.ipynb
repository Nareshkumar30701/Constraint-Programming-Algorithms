{
  "nbformat": 4,
  "nbformat_minor": 0,
  "metadata": {
    "colab": {
      "provenance": []
    },
    "kernelspec": {
      "name": "python3",
      "display_name": "Python 3"
    },
    "language_info": {
      "name": "python"
    }
  },
  "cells": [
    {
      "cell_type": "markdown",
      "source": [
        "##Hill Climbing Implementation"
      ],
      "metadata": {
        "id": "GkkM0X7axBg3"
      }
    },
    {
      "cell_type": "code",
      "source": [
        "import random\n",
        "import itertools\n",
        "\n",
        "# Objective function\n",
        "def compute_difference(mapping):\n",
        "    SEND = 1000 * mapping['S'] + 100 * mapping['E'] + 10 * mapping['N'] + mapping['D']\n",
        "    MORE = 1000 * mapping['M'] + 100 * mapping['O'] + 10 * mapping['R'] + mapping['E']\n",
        "    MONEY = 10000 * mapping['M'] + 1000 * mapping['O'] + 100 * mapping['N'] + 10 * mapping['E'] + mapping['Y']\n",
        "    return abs((SEND + MORE) - MONEY)\n",
        "\n",
        "# Initial random assignment\n",
        "def initial_assignment():\n",
        "    return {'S': 8, 'E': 3, 'N': 4, 'D': 6, 'M': 1, 'O': 0, 'R': 5, 'Y': 2}\n",
        "\n",
        "# Generate all possible neighbors by swapping two digits\n",
        "def generate_all_neighbors(mapping):\n",
        "    neighbors = []\n",
        "    keys = list(mapping.keys())\n",
        "    for a, b in itertools.combinations(keys, 2):\n",
        "        neighbor = mapping.copy()\n",
        "        neighbor[a], neighbor[b] = neighbor[b], neighbor[a]\n",
        "        neighbors.append(neighbor)\n",
        "    return neighbors\n",
        "\n",
        "# Hill Climbing algorithm\n",
        "def hill_climbing():\n",
        "    current = initial_assignment()\n",
        "    current_cost = compute_difference(current)\n",
        "    while True:\n",
        "        neighbors = generate_all_neighbors(current)\n",
        "        found_better = False\n",
        "        for neighbor in neighbors:\n",
        "            neighbor_cost = compute_difference(neighbor)\n",
        "            if neighbor_cost < current_cost:\n",
        "                current, current_cost = neighbor, neighbor_cost\n",
        "                found_better = True\n",
        "                break\n",
        "        if not found_better:\n",
        "            break\n",
        "    return current, current_cost\n",
        "\n",
        "if __name__ == \"__main__\":\n",
        "    solution, cost = hill_climbing()\n",
        "    print(\"Solution:\", solution)\n",
        "    print(\"Cost:\", cost)\n"
      ],
      "metadata": {
        "id": "31OkAAhky4Zz",
        "colab": {
          "base_uri": "https://localhost:8080/"
        },
        "outputId": "8d661399-47e0-4ae9-fd03-83224d461882"
      },
      "execution_count": 6,
      "outputs": [
        {
          "output_type": "stream",
          "name": "stdout",
          "text": [
            "Solution: {'S': 8, 'E': 6, 'N': 2, 'D': 4, 'M': 1, 'O': 0, 'R': 5, 'Y': 3}\n",
            "Cost: 583\n"
          ]
        }
      ]
    },
    {
      "cell_type": "markdown",
      "source": [
        "##Simulated Annealing Algorithm"
      ],
      "metadata": {
        "id": "1ErmvlgacO03"
      }
    },
    {
      "cell_type": "code",
      "source": [
        "import random\n",
        "import math\n",
        "\n",
        "# Objective function\n",
        "def compute_difference(mapping):\n",
        "    SEND = 1000 * mapping['S'] + 100 * mapping['E'] + 10 * mapping['N'] + mapping['D']\n",
        "    MORE = 1000 * mapping['M'] + 100 * mapping['O'] + 10 * mapping['R'] + mapping['E']\n",
        "    MONEY = 10000 * mapping['M'] + 1000 * mapping['O'] + 100 * mapping['N'] + 10 * mapping['E'] + mapping['Y']\n",
        "    return abs((SEND + MORE) - MONEY)\n",
        "\n",
        "# Initial random assignment\n",
        "def initial_assignment():\n",
        "    return {'S': 8, 'E': 3, 'N': 4, 'D': 6, 'M': 1, 'O': 0, 'R': 5, 'Y': 2}\n",
        "\n",
        "# Generate neighbors by swapping two random digits\n",
        "def generate_neighbor(mapping):\n",
        "    neighbor = mapping.copy()\n",
        "    a, b = random.sample(list(neighbor.keys()), 2)\n",
        "    neighbor[a], neighbor[b] = neighbor[b], neighbor[a]\n",
        "    return neighbor\n",
        "\n",
        "# Simulated Annealing algorithm\n",
        "def simulated_annealing():\n",
        "    current = initial_assignment()\n",
        "    current_cost = compute_difference(current)\n",
        "    T = 1000\n",
        "    alpha = 0.999\n",
        "    while T > 1:\n",
        "        neighbor = generate_neighbor(current)\n",
        "        neighbor_cost = compute_difference(neighbor)\n",
        "        if neighbor_cost < current_cost or random.random() < math.exp((current_cost - neighbor_cost) / T):\n",
        "            current, current_cost = neighbor, neighbor_cost\n",
        "        T *= alpha\n",
        "    return current, current_cost\n",
        "\n",
        "if __name__ == \"__main__\":\n",
        "    solution, cost = simulated_annealing()\n",
        "    print(\"Solution:\", solution)\n",
        "    print(\"Cost:\", cost)"
      ],
      "metadata": {
        "colab": {
          "base_uri": "https://localhost:8080/"
        },
        "id": "7voDMH5XUaQc",
        "outputId": "7dab438f-7f85-4741-b8b8-ef9f61a87cd6"
      },
      "execution_count": 9,
      "outputs": [
        {
          "output_type": "stream",
          "name": "stdout",
          "text": [
            "Solution: {'S': 3, 'E': 8, 'N': 2, 'D': 6, 'M': 0, 'O': 4, 'R': 5, 'Y': 1}\n",
            "Cost: 3\n"
          ]
        }
      ]
    },
    {
      "cell_type": "code",
      "source": [],
      "metadata": {
        "id": "BPKtcWr-Upuw"
      },
      "execution_count": 7,
      "outputs": []
    }
  ]
}